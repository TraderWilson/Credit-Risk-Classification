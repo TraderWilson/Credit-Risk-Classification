


# Import the modules
import numpy as np
import pandas as pd
from pathlib import Path
from sklearn.metrics import balanced_accuracy_score
from sklearn.metrics import confusion_matrix
from imblearn.metrics import classification_report_imbalanced

import warnings
warnings.filterwarnings('ignore')











# Read the CSV file from the Resources folder into a Pandas DataFrame
# YOUR CODE HERE!

df = pd.read_csv('Resources/lending_data.csv')

# Review the DataFrame
# YOUR CODE HERE!

df.head()





# Separate the data into labels and features

# Separate the y variable, the labels
# YOUR CODE HERE!]

y = df['loan_status']

# Separate the X variable, the features
# YOUR CODE HERE!

X = df.drop(columns = ['loan_status'])


# Review the y variable Series
# YOUR CODE HERE!

y[:5]


# Review the X variable DataFrame
# YOUR CODE HERE!

X.head()





# Check the balance of our target values
# YOUR CODE HERE!

y.value_counts()





# Import the train_test_learn module
from sklearn.model_selection import train_test_split

# Split the data using train_test_split
# Assign a random_state of 1 to the function
# YOUR CODE HERE!

X_train, X_test, y_train, y_test = train_test_split(X, y, random_state = 1, stratify = y)











# Import the LogisticRegression module from SKLearn
from sklearn.linear_model import LogisticRegression

# Instantiate the Logistic Regression model
# Assign a random_state parameter of 1 to the model
# YOUR CODE HERE!

classifier = LogisticRegression(solver = 'lbfgs', random_state = 1)

# Fit the model using training data
# YOUR CODE HERE!

classifier.fit(X_train, y_train)





# Make a prediction using the testing data
# YOUR CODE HERE!

predictions = classifier.predict(X_test)





# Print the balanced_accuracy score of the model
# YOUR CODE HERE!

balanced_accuracy_score(y_test, predictions)


# Generate a confusion matrix for the model
# YOUR CODE HERE!

confusion_matrix(y_test, predictions)


# Print the classification report for the model
# YOUR CODE HERE!

print(classification_report_imbalanced(y_test, predictions))

















# Import the RandomOverSampler module form imbalanced-learn
from imblearn.over_sampling import RandomOverSampler

# Instantiate the random oversampler model
# # Assign a random_state parameter of 1 to the model
# YOUR CODE HERE!

random_oversampler = RandomOverSampler(random_state = 1)

# Fit the original training data to the random_oversampler model
# YOUR CODE HERE!

X_resampled, y_resampled = random_oversampler.fit_resample(X_train, y_train)


# Count the distinct values of the resampled labels data
# YOUR CODE HERE!

y_resampled.value_counts()





# Instantiate the Logistic Regression model
# Assign a random_state parameter of 1 to the model
# YOUR CODE HERE!

classifier_resample = LogisticRegression(solver = 'lbfgs', random_state = 1)

# Fit the model using the resampled training data
# YOUR CODE HERE!

classifier_resample.fit(X_resampled, y_resampled)

# Make a prediction using the testing data
# YOUR CODE HERE!

y_pred = classifier_resample.predict(X_test)





# Print the balanced_accuracy score of the model 
# YOUR CODE HERE!

balanced_accuracy_score(y_test, y_pred)


# Generate a confusion matrix for the model
# YOUR CODE HERE!

confusion_matrix(y_test, y_pred)


# Print the classification report for the model
# YOUR CODE HERE!

print(classification_report_imbalanced(y_test, y_pred))






